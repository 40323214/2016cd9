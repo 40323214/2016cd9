{
  "cells": [
    {
      "cell_type": "markdown",
      "metadata": {
        "id": "view-in-github",
        "colab_type": "text"
      },
      "source": [
        "<a href=\"https://colab.research.google.com/github/40323214/2016cd9/blob/master/202406.ipynb\" target=\"_parent\"><img src=\"https://colab.research.google.com/assets/colab-badge.svg\" alt=\"Open In Colab\"/></a>"
      ]
    },
    {
      "cell_type": "markdown",
      "id": "e046bf22-d1d8-4e6d-952b-620bf2cdb41c",
      "metadata": {
        "jp-MarkdownHeadingCollapsed": true,
        "id": "e046bf22-d1d8-4e6d-952b-620bf2cdb41c"
      },
      "source": [
        "# 20240626"
      ]
    },
    {
      "cell_type": "markdown",
      "id": "baf453cb-5f1b-49da-adb7-093fa30b0343",
      "metadata": {
        "id": "baf453cb-5f1b-49da-adb7-093fa30b0343"
      },
      "source": [
        "### [學習使用Markdown](https://markdown.p2hp.com/basic-syntax/#links)."
      ]
    },
    {
      "cell_type": "code",
      "execution_count": null,
      "id": "1b0ea223-7930-4c48-9a9b-bfe545553dc4",
      "metadata": {
        "id": "1b0ea223-7930-4c48-9a9b-bfe545553dc4"
      },
      "outputs": [],
      "source": [
        "a = input('Enter your name')"
      ]
    },
    {
      "cell_type": "code",
      "execution_count": null,
      "id": "d97d2bbe-c599-4d5b-bfd4-bde0d36029bf",
      "metadata": {
        "id": "d97d2bbe-c599-4d5b-bfd4-bde0d36029bf"
      },
      "outputs": [],
      "source": [
        "print(a)"
      ]
    },
    {
      "cell_type": "code",
      "execution_count": null,
      "id": "4860bb77-b3ad-479b-9252-224d3597b2a6",
      "metadata": {
        "id": "4860bb77-b3ad-479b-9252-224d3597b2a6"
      },
      "outputs": [],
      "source": [
        "a = 24"
      ]
    },
    {
      "cell_type": "code",
      "execution_count": null,
      "id": "1341ac26-35a7-41f1-9719-a472a5e2fa94",
      "metadata": {
        "id": "1341ac26-35a7-41f1-9719-a472a5e2fa94"
      },
      "outputs": [],
      "source": [
        "b=7"
      ]
    },
    {
      "cell_type": "code",
      "execution_count": null,
      "id": "903fd0ed-9776-4918-ac44-706318f83378",
      "metadata": {
        "id": "903fd0ed-9776-4918-ac44-706318f83378"
      },
      "outputs": [],
      "source": [
        "print((a%b*100)//2**3-b)"
      ]
    },
    {
      "cell_type": "code",
      "execution_count": null,
      "id": "6a08c639-b05f-445d-9fcf-c800e17fdac5",
      "metadata": {
        "id": "6a08c639-b05f-445d-9fcf-c800e17fdac5"
      },
      "outputs": [],
      "source": [
        "a=5\n",
        "b=6\n",
        "eval('a+b')"
      ]
    },
    {
      "cell_type": "code",
      "execution_count": null,
      "id": "0f9591e0-7575-41b1-b1bc-8bd0955cfe74",
      "metadata": {
        "id": "0f9591e0-7575-41b1-b1bc-8bd0955cfe74"
      },
      "outputs": [],
      "source": [
        "0 or 5"
      ]
    },
    {
      "cell_type": "code",
      "execution_count": null,
      "id": "46e9d718-6d8e-448b-bd5a-4624724b6253",
      "metadata": {
        "id": "46e9d718-6d8e-448b-bd5a-4624724b6253"
      },
      "outputs": [],
      "source": [
        "None is None"
      ]
    },
    {
      "cell_type": "code",
      "execution_count": null,
      "id": "5147ba6e-adcc-436c-bbb7-57388f662c35",
      "metadata": {
        "id": "5147ba6e-adcc-436c-bbb7-57388f662c35"
      },
      "outputs": [],
      "source": [
        "3 or 4 or 0"
      ]
    },
    {
      "cell_type": "code",
      "execution_count": null,
      "id": "34026644-9873-4f35-888c-31b9488b0c50",
      "metadata": {
        "id": "34026644-9873-4f35-888c-31b9488b0c50"
      },
      "outputs": [],
      "source": [
        "3.2"
      ]
    },
    {
      "cell_type": "code",
      "execution_count": null,
      "id": "a30c9ff6-478b-49e3-8f0b-53c58d0f958f",
      "metadata": {
        "id": "a30c9ff6-478b-49e3-8f0b-53c58d0f958f"
      },
      "outputs": [],
      "source": [
        "3.2 or 4.5"
      ]
    },
    {
      "cell_type": "code",
      "execution_count": null,
      "id": "b3c3e2c9-2d4b-42ce-b4ad-f661658794e1",
      "metadata": {
        "id": "b3c3e2c9-2d4b-42ce-b4ad-f661658794e1"
      },
      "outputs": [],
      "source": [
        "0.0 or 0"
      ]
    },
    {
      "cell_type": "code",
      "execution_count": null,
      "id": "beddbf33-ec0c-423d-9bf7-ecf391772fc2",
      "metadata": {
        "id": "beddbf33-ec0c-423d-9bf7-ecf391772fc2"
      },
      "outputs": [],
      "source": [
        "0.0 or 0.0"
      ]
    },
    {
      "cell_type": "code",
      "execution_count": null,
      "id": "e1f2c81f-1956-4b77-b6bd-cfd623d4290d",
      "metadata": {
        "id": "e1f2c81f-1956-4b77-b6bd-cfd623d4290d"
      },
      "outputs": [],
      "source": [
        "bool(0)"
      ]
    },
    {
      "cell_type": "code",
      "execution_count": null,
      "id": "5a640548-c006-4fc9-beb7-50d89cc99de9",
      "metadata": {
        "id": "5a640548-c006-4fc9-beb7-50d89cc99de9"
      },
      "outputs": [],
      "source": [
        "-5<0<5"
      ]
    },
    {
      "cell_type": "code",
      "execution_count": null,
      "id": "e4dcda9b-97e7-44eb-833b-aec6b7a3442c",
      "metadata": {
        "id": "e4dcda9b-97e7-44eb-833b-aec6b7a3442c"
      },
      "outputs": [],
      "source": [
        "a = 'a,b'\n",
        "b = 'a,b'\n",
        "a is b"
      ]
    },
    {
      "cell_type": "code",
      "execution_count": null,
      "id": "63d38a6f-36bc-4b42-aaa1-6df59dabe8eb",
      "metadata": {
        "id": "63d38a6f-36bc-4b42-aaa1-6df59dabe8eb"
      },
      "outputs": [],
      "source": [
        "id(a)"
      ]
    },
    {
      "cell_type": "code",
      "execution_count": null,
      "id": "a62b8774-3da7-49d7-8ad5-f7cbe1c72770",
      "metadata": {
        "id": "a62b8774-3da7-49d7-8ad5-f7cbe1c72770"
      },
      "outputs": [],
      "source": [
        "id(b)"
      ]
    },
    {
      "cell_type": "code",
      "execution_count": null,
      "id": "3637d8f3-49f4-414a-bce3-d5b43803275d",
      "metadata": {
        "id": "3637d8f3-49f4-414a-bce3-d5b43803275d"
      },
      "outputs": [],
      "source": [
        "def reverse_pname(backwards_pname):\n",
        "    forward_pname=''\n",
        "    for index in range(len(backwards_pname)-1,-1,-1):\n",
        "        forward_pname+=backwards_pname[index]\n",
        "    return forward_pname\n",
        "print(reverse_pname(\"plokol\"))"
      ]
    },
    {
      "cell_type": "code",
      "execution_count": null,
      "id": "45ae0b36-b1ae-4179-93e2-68be955f626c",
      "metadata": {
        "id": "45ae0b36-b1ae-4179-93e2-68be955f626c"
      },
      "outputs": [],
      "source": [
        "def ticket_fee(age,school):\n",
        "    fee=0\n",
        "    if age >=5 and school == True:\n",
        "        fee=60\n",
        "    if age >=5 and school == False:\n",
        "        if age <=17 :\n",
        "           fee=120\n",
        "        else:\n",
        "           fee=180\n",
        "    return fee\n",
        "print(ticket_fee(20,False))"
      ]
    },
    {
      "cell_type": "markdown",
      "id": "c1af3f79-c244-4ea0-9a46-7001d07067e8",
      "metadata": {
        "id": "c1af3f79-c244-4ea0-9a46-7001d07067e8"
      },
      "source": [
        "# 20240627"
      ]
    },
    {
      "cell_type": "markdown",
      "id": "366e0ebb-a9be-4405-b6be-65459396f91a",
      "metadata": {
        "id": "366e0ebb-a9be-4405-b6be-65459396f91a"
      },
      "source": [
        "### Markdown 圖片展示"
      ]
    },
    {
      "cell_type": "markdown",
      "id": "b134e5c2-3651-4de5-9f96-8e2fe0953a7b",
      "metadata": {
        "id": "b134e5c2-3651-4de5-9f96-8e2fe0953a7b"
      },
      "source": [
        "![Philadelphia's Magic Gardens. This place was so cool!](https://www.cio.com.tw/wp-content/uploads/AI-ISO%E6%A8%99%E6%BA%96156496.jpg)"
      ]
    },
    {
      "cell_type": "code",
      "execution_count": null,
      "id": "308723be-6ea7-4b05-8f59-f104f8a378d7",
      "metadata": {
        "id": "308723be-6ea7-4b05-8f59-f104f8a378d7"
      },
      "outputs": [],
      "source": [
        "# 5.1.3 List Comprehensions\n",
        "sq = []\n",
        "for x in range (10):\n",
        "    sq.append(x**2)\n",
        "sq"
      ]
    },
    {
      "cell_type": "code",
      "execution_count": null,
      "id": "f39ba32a-a65c-4499-9fb7-806f0139d40e",
      "metadata": {
        "id": "f39ba32a-a65c-4499-9fb7-806f0139d40e"
      },
      "outputs": [],
      "source": [
        "sq = list(map(lambda x:x**2,range(10)))\n",
        "sq"
      ]
    },
    {
      "cell_type": "code",
      "execution_count": null,
      "id": "3ce3ad80-1b68-4cbe-ba66-b0f654de33e4",
      "metadata": {
        "id": "3ce3ad80-1b68-4cbe-ba66-b0f654de33e4"
      },
      "outputs": [],
      "source": [
        "list(map(str.lower,['ABC','SaB']))"
      ]
    },
    {
      "cell_type": "code",
      "execution_count": null,
      "id": "5fdcb5c1-cbbe-4ee6-93c1-71e34bd0e098",
      "metadata": {
        "id": "5fdcb5c1-cbbe-4ee6-93c1-71e34bd0e098"
      },
      "outputs": [],
      "source": [
        "sq = [x**2 for x in range(10)]\n",
        "sq"
      ]
    },
    {
      "cell_type": "code",
      "execution_count": null,
      "id": "7cc5c7f5-026a-424d-9098-fb7a0a45243d",
      "metadata": {
        "id": "7cc5c7f5-026a-424d-9098-fb7a0a45243d"
      },
      "outputs": [],
      "source": [
        "combs = []\n",
        "for x in [1,2,3]:\n",
        "    for y in [3,1,4]:\n",
        "        if x != y:\n",
        "            combs.append((x,y))\n",
        "combs"
      ]
    },
    {
      "cell_type": "code",
      "execution_count": null,
      "id": "98e5d0bd-786d-4d14-9855-d4302feafefb",
      "metadata": {
        "id": "98e5d0bd-786d-4d14-9855-d4302feafefb"
      },
      "outputs": [],
      "source": [
        "[(x,y) for x in [1,2,3] for y in[3,1,4] if x!=y]"
      ]
    },
    {
      "cell_type": "code",
      "execution_count": null,
      "id": "2ed93dc0-f49b-4290-bd9e-251ae1d86e9b",
      "metadata": {
        "id": "2ed93dc0-f49b-4290-bd9e-251ae1d86e9b"
      },
      "outputs": [],
      "source": [
        "freshfruit = ['  banana', '  loganberry ', 'passion fruit  ']\n",
        "[weapon.strip() for weapon in freshfruit]"
      ]
    },
    {
      "cell_type": "code",
      "execution_count": null,
      "id": "73f65b6e-017d-4c0d-9fb3-89533ac57192",
      "metadata": {
        "id": "73f65b6e-017d-4c0d-9fb3-89533ac57192"
      },
      "outputs": [],
      "source": [
        "[(x, x**2) for x in range(6)]"
      ]
    },
    {
      "cell_type": "code",
      "execution_count": null,
      "id": "4fcd1778-4226-4d93-b4e2-0a228e7a4166",
      "metadata": {
        "id": "4fcd1778-4226-4d93-b4e2-0a228e7a4166"
      },
      "outputs": [],
      "source": [
        "vec = [[1,2,3], [4,5,6], [7,8,9]]\n",
        "num=[]\n",
        "for elem in vec :\n",
        "    num +=elem\n",
        "print(num)"
      ]
    },
    {
      "cell_type": "code",
      "execution_count": null,
      "id": "700d19f0-1f6c-4a93-9c24-4201d5803a39",
      "metadata": {
        "id": "700d19f0-1f6c-4a93-9c24-4201d5803a39"
      },
      "outputs": [],
      "source": [
        "vec = [[1,2,3], [4,5,6], [7,8,9]]\n",
        "num=[]\n",
        "for elem in vec :\n",
        "    for n in elem :\n",
        "        num.append(n)\n",
        "print(num)"
      ]
    },
    {
      "cell_type": "code",
      "execution_count": null,
      "id": "fce47b01-8d73-4d5f-be57-e46fe4eb207d",
      "metadata": {
        "id": "fce47b01-8d73-4d5f-be57-e46fe4eb207d"
      },
      "outputs": [],
      "source": [
        "vec = [[1,2,3], [4,5,6], [7,8,9]]\n",
        "[n for elem in vec for n in elem]"
      ]
    },
    {
      "cell_type": "code",
      "execution_count": null,
      "id": "f674725f-9579-47d0-9a64-6bd3b659aefe",
      "metadata": {
        "id": "f674725f-9579-47d0-9a64-6bd3b659aefe"
      },
      "outputs": [],
      "source": [
        "from math import pi\n",
        "[str(round(pi, i)) for i in range(1, 6)]"
      ]
    },
    {
      "cell_type": "code",
      "execution_count": null,
      "id": "da7765f2-23db-44b1-b5f8-4439bb59f69f",
      "metadata": {
        "id": "da7765f2-23db-44b1-b5f8-4439bb59f69f"
      },
      "outputs": [],
      "source": [
        "import math\n",
        "math.pow(2,4)"
      ]
    },
    {
      "cell_type": "code",
      "execution_count": null,
      "id": "aaf1c727-c90f-48e5-9438-3b2f0d0109d1",
      "metadata": {
        "id": "aaf1c727-c90f-48e5-9438-3b2f0d0109d1"
      },
      "outputs": [],
      "source": [
        "[abs(n)+1 for n in range(-4,5)]"
      ]
    },
    {
      "cell_type": "code",
      "execution_count": null,
      "id": "6c5ee043-8b5a-4476-a5b2-427f430574e4",
      "metadata": {
        "id": "6c5ee043-8b5a-4476-a5b2-427f430574e4"
      },
      "outputs": [],
      "source": [
        "[6-(abs(n)+1) for n in range(-4,5)]"
      ]
    },
    {
      "cell_type": "code",
      "execution_count": null,
      "id": "29d295a4-8699-4300-8b59-83335fb686b6",
      "metadata": {
        "id": "29d295a4-8699-4300-8b59-83335fb686b6"
      },
      "outputs": [],
      "source": [
        "# 5.1.4 巢狀的 List Comprehensions 陣列轉置\n",
        "matrix = [\n",
        "    [1, 2, 3, 4],\n",
        "    [5, 6, 7, 8],\n",
        "    [9, 10, 11, 12],\n",
        "]\n",
        "matrix"
      ]
    },
    {
      "cell_type": "code",
      "execution_count": null,
      "id": "f0945699-3838-4320-aa78-c5fa364eb7a9",
      "metadata": {
        "id": "f0945699-3838-4320-aa78-c5fa364eb7a9"
      },
      "outputs": [],
      "source": [
        "list(zip(*matrix))"
      ]
    },
    {
      "cell_type": "code",
      "execution_count": null,
      "id": "aca632e3-05a7-44d1-9ea2-c9577c9024c3",
      "metadata": {
        "id": "aca632e3-05a7-44d1-9ea2-c9577c9024c3"
      },
      "outputs": [],
      "source": [
        "vrep = [2,3,4,5,3,4,5,6,4,5,6,7]\n",
        "\n",
        "[vrep[n*4:n*4+4] for n in range(3)]"
      ]
    },
    {
      "cell_type": "markdown",
      "source": [
        "# 2024/06/28"
      ],
      "metadata": {
        "id": "n2mVzJyndXkj"
      },
      "id": "n2mVzJyndXkj"
    },
    {
      "cell_type": "code",
      "source": [
        "from google.colab import drive\n",
        "drive.mount('/content/drive')"
      ],
      "metadata": {
        "id": "PJBbUVxdfvjY"
      },
      "id": "PJBbUVxdfvjY",
      "execution_count": null,
      "outputs": []
    },
    {
      "cell_type": "code",
      "source": [
        "!python --version"
      ],
      "metadata": {
        "id": "3Kp1tPwZdqVi"
      },
      "id": "3Kp1tPwZdqVi",
      "execution_count": null,
      "outputs": []
    },
    {
      "cell_type": "code",
      "source": [
        "path = '/content/drive/MyDrive/Colab Notebooks/學生資料表.txt'\n",
        "\n",
        "# with open(path) as f :\n",
        "#     op= []\n",
        "#     n=0\n",
        "#     while True:\n",
        "#         str1 = f.readline()  # '林治宏 01 75 87 1998/05/22\\n'\n",
        "#         t = str1.split()\n",
        "#         if t ==[]:\n",
        "#             break\n",
        "#         else :\n",
        "#             t[2] = int(t[2])\n",
        "#             t[3] = int(t[3])\n",
        "#             t.append((int(t[2]) + int(t[3])) / 2)\n",
        "#             op.append(t)\n",
        "#         n +=1\n",
        "#     print(op)\n",
        "\n",
        "# with open(path) as f :\n",
        "#     list1 = f.readlines()       # ['林治宏 01 75 87 1998/05/22\\n', '陳建偉 02 60 78 2005/08/19\\n', ......]\n",
        "#     op = []\n",
        "#     for item in list1:\n",
        "#         t = item.split()\n",
        "#         t[2] = int(t[2])\n",
        "#         t[3] = int(t[3])\n",
        "#         t.append((t[2]+t[3])/2)\n",
        "#         op.append(t)\n",
        "#     print(op)\n",
        "\n",
        "with open(path,mode='r',encoding='big5') as f:\n",
        "    data = f.read()   # '林治宏 01 75 87 1998/05/22\\n陳建偉 02 60 78 2005/08/19\\n......'\n",
        "    data_list = data.split()\n",
        "    op = []\n",
        "    n = 0\n",
        "    while True :\n",
        "        t = data_list[0 + n * 5: 5 + n * 5]\n",
        "        if t == [] :\n",
        "            break\n",
        "        else :\n",
        "            t[2] = int(t[2])\n",
        "            t[3] = int(t[3])\n",
        "            t.append( (t[2]+t[3])/2 )\n",
        "            op.append(t)\n",
        "            n += 1\n",
        "    print(op)"
      ],
      "metadata": {
        "id": "HGErOeMJgYyh"
      },
      "id": "HGErOeMJgYyh",
      "execution_count": null,
      "outputs": []
    },
    {
      "cell_type": "code",
      "source": [
        "import Boyce\n",
        "import datetime\n",
        "import random\n",
        "\n",
        "with open('/content/drive/MyDrive/Colab Notebooks/學生資料表.txt',mode='r',encoding='big5') as f:\n",
        "   data = f.read()\n",
        "\n",
        "print(type(data))\n",
        "print(int(data.split()[0:5][2])+int(data.split()[0:5][3]))\n",
        "\n",
        "data_list=data.split()\n",
        "print(data_list)\n",
        "\n",
        "\n",
        "print('id','s1','s2','avg','age','rank','name')\n",
        "alllist = []\n",
        "n=0\n",
        "while True :\n",
        "   t= data_list[0+n*5:5+n*5]\n",
        "   if t == []:\n",
        "      break\n",
        "   else :\n",
        "      t[2] = int(t[2])\n",
        "      t[3] = int(t[3])\n",
        "      t.append((int(t[2])+int(t[3]))/2)\n",
        "      alllist.append(t)\n",
        "      #print(t[0],t[1],int(t[2]),int(t[3]),(int(t[2])+int(t[3]))/2)\n",
        "   n+=1\n",
        "# print(alllist)\n",
        "op=sorted(alllist,key=lambda x : x[5],reverse=True)\n",
        "#print(op)\n",
        "\n",
        "# rank = 1\n",
        "# #avg = op[0][5]\n",
        "# for n,item in enumerate(op,1) :\n",
        "#    if n==1  :\n",
        "#       print(item[1], item[2], item[3], item[5], Boyce.age(item[4]),rank, item[0])\n",
        "#    else :\n",
        "#       if item[5] < avg :\n",
        "#          print(item[1], item[2], item[3], item[5], Boyce.age(item[4]), n , item[0])\n",
        "#          rank = n\n",
        "#       else :\n",
        "#          print(item[1],item[2],item[3],item[5],Boyce.age(item[4]),rank,item[0])\n",
        "#\n",
        "#    avg = item[5]\n",
        "\n",
        "\n",
        "rank = 1\n",
        "#avg = op[0][5]\n",
        "for n,item in enumerate(op,1) :\n",
        "    if n == 1 or item[5] == avg:\n",
        "        print(item[1],item[2],item[3],item[5],Boyce.age(item[4]),rank,item[0])\n",
        "    else :\n",
        "        print(item[1],item[2],item[3],item[5],Boyce.age(item[4]),n,item[0])\n",
        "        rank = n\n",
        "    avg = item[5]"
      ],
      "metadata": {
        "id": "Cf8Yf45ziGgx"
      },
      "id": "Cf8Yf45ziGgx",
      "execution_count": null,
      "outputs": []
    },
    {
      "cell_type": "markdown",
      "source": [
        "##4.8深入了解函式定義"
      ],
      "metadata": {
        "id": "inEy8IuqqEPX"
      },
      "id": "inEy8IuqqEPX"
    },
    {
      "cell_type": "code",
      "source": [
        "def ask_ok(prompt, retries=4, reminder='Please try again!'):\n",
        "    while True:\n",
        "        reply = input(prompt)\n",
        "        if reply in {'y', 'ye', 'yes'}:\n",
        "            return True\n",
        "        if reply in {'n', 'no', 'nop', 'nope'}:\n",
        "            return False\n",
        "        retries = retries - 1\n",
        "        if retries < 0:\n",
        "            raise ValueError('invalid user response')\n",
        "        print(reminder)"
      ],
      "metadata": {
        "id": "nAcZ-QiQptqv"
      },
      "id": "nAcZ-QiQptqv",
      "execution_count": null,
      "outputs": []
    },
    {
      "cell_type": "code",
      "source": [
        "ask_ok('Do you really want to quit?')"
      ],
      "metadata": {
        "id": "S3LteNEXqSm1"
      },
      "id": "S3LteNEXqSm1",
      "execution_count": null,
      "outputs": []
    },
    {
      "cell_type": "code",
      "source": [
        "def cheeseshop(kind, *arguments, **keywords):               #不定數量參數    *一顆星號後面參數會將所有寫的內容打包成一個元祖 **兩顆星號是指打包有key=value\n",
        "    print(\"-- Do you have any\", kind, \"?\")\n",
        "    print(\"-- I'm sorry, we're all out of\", kind)\n",
        "    for arg in arguments:\n",
        "        print(arg)\n",
        "    print(\"-\" * 40)\n",
        "    for kw in keywords:\n",
        "        print(kw, \":\", keywords[kw])"
      ],
      "metadata": {
        "id": "uDofAXIrwjCI"
      },
      "id": "uDofAXIrwjCI",
      "execution_count": null,
      "outputs": []
    },
    {
      "cell_type": "code",
      "source": [
        "cheeseshop(\"Limburger\", \"It's very runny, sir.\",\n",
        "           \"It's really very, VERY runny, sir.\",\n",
        "           shopkeeper=\"Michael Palin\",\n",
        "           client=\"John Cleese\",\n",
        "           sketch=\"Cheese Shop Sketch\")"
      ],
      "metadata": {
        "id": "OC62FUcJwnqx"
      },
      "id": "OC62FUcJwnqx",
      "execution_count": null,
      "outputs": []
    },
    {
      "cell_type": "code",
      "source": [
        "def standard_arg(arg):\n",
        "    print(arg)\n",
        "\n",
        "def pos_only_arg(arg, /):\n",
        "    print(arg)\n",
        "\n",
        "def kwd_only_arg(*, arg):\n",
        "    print(arg)\n",
        "\n",
        "def combined_example(pos_only, /, standard, *, kwd_only):\n",
        "    print(pos_only, standard, kwd_only)"
      ],
      "metadata": {
        "id": "SRpCIX-J6ADj"
      },
      "id": "SRpCIX-J6ADj",
      "execution_count": null,
      "outputs": []
    },
    {
      "cell_type": "code",
      "source": [
        "combined_example(1, 2, kwd_only=3)"
      ],
      "metadata": {
        "id": "cY_ZO0Z36Hzk"
      },
      "id": "cY_ZO0Z36Hzk",
      "execution_count": null,
      "outputs": []
    },
    {
      "cell_type": "code",
      "source": [
        "import Boyce"
      ],
      "metadata": {
        "id": "K4wUKNMjSp7U"
      },
      "id": "K4wUKNMjSp7U",
      "execution_count": null,
      "outputs": []
    },
    {
      "cell_type": "code",
      "source": [
        "dict1 = {}\n",
        "for n in range(30):\n",
        "  dict1[Boyce.全班姓名[3*n:3+3*n]]=(random.randint(50,100)),random.randint(50,100)\n",
        "dict1"
      ],
      "metadata": {
        "id": "l7AOYZe1StzM"
      },
      "id": "l7AOYZe1StzM",
      "execution_count": null,
      "outputs": []
    },
    {
      "cell_type": "markdown",
      "source": [
        "##4.8.4. 任意引數列表 (Arbitrary Argument Lists)"
      ],
      "metadata": {
        "id": "jGuk_Edufs2W"
      },
      "id": "jGuk_Edufs2W"
    },
    {
      "cell_type": "code",
      "source": [
        "def write_multiple_items(file, separator, *args):\n",
        "    file.write(separator.join(args))\n",
        "path = '/content/drive/MyDrive/Colab Notebooks/測試檔案.txt'\n",
        "with open('測試檔案',mode='w') as f:\n",
        "   write_multiple_items(f,'#','abc','def','ghi')"
      ],
      "metadata": {
        "id": "t7BbD5_Mfw0O"
      },
      "id": "t7BbD5_Mfw0O",
      "execution_count": null,
      "outputs": []
    },
    {
      "cell_type": "code",
      "source": [
        "def concat(*args, sep=\"/\"):\n",
        "    return sep.join(args)\n",
        "\n",
        "concat(\"earth\", \"mars\", \"venus\")\n",
        "'earth/mars/venus'\n",
        "concat(\"earth\", \"mars\", \"venus\", sep=\".\")\n",
        "'earth.mars.venus'"
      ],
      "metadata": {
        "id": "axLXO4AKhtMu"
      },
      "id": "axLXO4AKhtMu",
      "execution_count": null,
      "outputs": []
    },
    {
      "cell_type": "markdown",
      "source": [
        "##4.8.5. 拆解引數列表（Unpacking Argument Lists）"
      ],
      "metadata": {
        "id": "fabU5QcNitjd"
      },
      "id": "fabU5QcNitjd"
    },
    {
      "cell_type": "code",
      "source": [
        "list(range(3, 6))            # normal call with separate arguments\n",
        "[3, 4, 5]\n",
        "args = [3, 6]\n",
        "list(range(*args))            # call with arguments unpacked from a list\n",
        "[3, 4, 5]"
      ],
      "metadata": {
        "id": "8kmW4fHTixVC"
      },
      "id": "8kmW4fHTixVC",
      "execution_count": null,
      "outputs": []
    },
    {
      "cell_type": "code",
      "source": [
        "def parrot(voltage, state='a stiff', action='voom'):\n",
        "    print(\"-- This parrot wouldn't\", action, end=' ')\n",
        "    print(\"if you put\", voltage, \"volts through it.\", end=' ')\n",
        "    print(\"E's\", state, \"!\")\n",
        "\n",
        "d = {\"voltage\": \"four million\", \"state\": \"bleedin' demised\", \"action\": \"VOOM\"}\n",
        "parrot(**d)"
      ],
      "metadata": {
        "id": "QGd9HkyCi0F7"
      },
      "id": "QGd9HkyCi0F7",
      "execution_count": null,
      "outputs": []
    },
    {
      "cell_type": "markdown",
      "source": [
        "##4.8.6. Lambda 運算式"
      ],
      "metadata": {
        "id": "QOO3frfXjIBG"
      },
      "id": "QOO3frfXjIBG"
    },
    {
      "cell_type": "markdown",
      "source": [
        "##閉包;python closure"
      ],
      "metadata": {
        "id": "gRfMHe8YmWOs"
      },
      "id": "gRfMHe8YmWOs"
    },
    {
      "cell_type": "code",
      "source": [
        "def make_incrementor(n):\n",
        "    return lambda x: x + n\n",
        "\n",
        "f = make_incrementor('5262')\n",
        "f('avcd')"
      ],
      "metadata": {
        "id": "oi_c1Eqxi2gC"
      },
      "id": "oi_c1Eqxi2gC",
      "execution_count": null,
      "outputs": []
    },
    {
      "cell_type": "code",
      "source": [
        "pairs = [(1, 'one'), (2, 'two'), (3, 'three'), (4, 'four')]\n",
        "pairs.sort(key=lambda pair: pair[1])\n",
        "pairs"
      ],
      "metadata": {
        "id": "BIr0KDU2jP9b"
      },
      "id": "BIr0KDU2jP9b",
      "execution_count": null,
      "outputs": []
    },
    {
      "cell_type": "markdown",
      "source": [
        "##4.8.7. 說明文件字串 (Documentation Strings)"
      ],
      "metadata": {
        "id": "-aaeyVCCnfJc"
      },
      "id": "-aaeyVCCnfJc"
    },
    {
      "cell_type": "code",
      "source": [
        "def my_function():\n",
        "    \"\"\"\n",
        "    Do nothing, but document it.\n",
        "\n",
        "    No, really, it doesn't do anything.\n",
        "    \"\"\"\n",
        "    pass\n",
        "\n",
        "print(my_function.__doc__)      #__doc__是這個物件裡面的字串"
      ],
      "metadata": {
        "id": "iqeuUKdKninM"
      },
      "id": "iqeuUKdKninM",
      "execution_count": null,
      "outputs": []
    },
    {
      "cell_type": "code",
      "source": [],
      "metadata": {
        "id": "d-C2afKPns8w"
      },
      "id": "d-C2afKPns8w",
      "execution_count": null,
      "outputs": []
    },
    {
      "cell_type": "markdown",
      "source": [
        "##4.8.8. 函式註釋 (Function Annotations)¶"
      ],
      "metadata": {
        "id": "Rx9i5ojXpCjK"
      },
      "id": "Rx9i5ojXpCjK"
    },
    {
      "cell_type": "code",
      "source": [
        "def f(ham :str, eggs :str = 'eggs') -> str:\n",
        "    print(\"Annotations:\", f.__annotations__)\n",
        "    print(\"Arguments:\", ham, eggs)\n",
        "    return ham + ' and ' + eggs\n",
        "\n",
        "f('spam')\n"
      ],
      "metadata": {
        "id": "fv5L9cOPpHB0"
      },
      "id": "fv5L9cOPpHB0",
      "execution_count": null,
      "outputs": []
    },
    {
      "cell_type": "code",
      "source": [
        "num=0\n",
        "nums=[]\n",
        "def func(num,lists):\n",
        "  num=10\n",
        "  nums.append(num)\n",
        "  print(id(num))\n",
        "  print(id(lists))\n",
        "  return nums\n",
        "nums.append(100)\n",
        "num=5\n",
        "ans = func(num,nums)\n",
        "print(id(num))\n",
        "print(id(nums))\n",
        "print(id(ans))"
      ],
      "metadata": {
        "id": "St1N3FKTpJeF"
      },
      "id": "St1N3FKTpJeF",
      "execution_count": null,
      "outputs": []
    },
    {
      "cell_type": "code",
      "source": [],
      "metadata": {
        "id": "5W2aWNXN99q1"
      },
      "id": "5W2aWNXN99q1",
      "execution_count": null,
      "outputs": []
    }
  ],
  "metadata": {
    "kernelspec": {
      "display_name": "Python 3 (ipykernel)",
      "language": "python",
      "name": "python3"
    },
    "language_info": {
      "codemirror_mode": {
        "name": "ipython",
        "version": 3
      },
      "file_extension": ".py",
      "mimetype": "text/x-python",
      "name": "python",
      "nbconvert_exporter": "python",
      "pygments_lexer": "ipython3",
      "version": "3.10.11"
    },
    "colab": {
      "provenance": [],
      "collapsed_sections": [
        "n2mVzJyndXkj"
      ],
      "include_colab_link": true
    }
  },
  "nbformat": 4,
  "nbformat_minor": 5
}